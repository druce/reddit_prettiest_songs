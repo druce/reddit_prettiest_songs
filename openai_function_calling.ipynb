{
 "cells": [
  {
   "cell_type": "code",
   "execution_count": null,
   "metadata": {},
   "outputs": [],
   "source": [
    "# function calling with openai"
   ]
  },
  {
   "cell_type": "code",
   "execution_count": null,
   "metadata": {
    "lines_to_next_cell": 2
   },
   "outputs": [],
   "source": [
    "import os\n",
    "import pandas as pd\n",
    "\n",
    "import openai\n",
    "\n",
    "import spotipy\n",
    "from spotipy.oauth2 import SpotifyClientCredentials\n",
    "\n",
    "import dotenv\n",
    "dotenv.load_dotenv()"
   ]
  },
  {
   "cell_type": "code",
   "execution_count": null,
   "metadata": {
    "lines_to_next_cell": 2
   },
   "outputs": [],
   "source": [
    "openai.api_key = os.getenv('OPENAI_API_KEY')\n",
    "\n",
    "models = openai.Model.list()\n",
    "print([(i, m.id,) for i, m in enumerate(models[\"data\"])])\n",
    "models['data'][2]"
   ]
  },
  {
   "cell_type": "code",
   "execution_count": null,
   "metadata": {},
   "outputs": [],
   "source": [
    "\n",
    "scope = \"playlist-modify-public\"\n",
    "\n",
    "sp = spotipy.Spotify(auth_manager=spotipy.SpotifyOAuth(scope=scope,\n",
    "                                                       client_id=os.getenv('SPOTIFY_CLIENT_ID'),\n",
    "                                                       client_secret=os.getenv('SPOTIFY_CLIENT_SECRET'),\n",
    "                                                       redirect_uri=\"https://druce.ai\"\n",
    "                                                      ))"
   ]
  },
  {
   "cell_type": "code",
   "execution_count": null,
   "metadata": {},
   "outputs": [],
   "source": [
    "# get playlist id\n",
    "# first create a playlist in Spotify UI to load songs\n",
    "def get_playlist_id(playlist_name, verbose=False):\n",
    "    playlists = sp.user_playlists(os.getenv('SPOTIFY_USERNAME'))\n",
    "    while playlists:\n",
    "        for i, playlist in enumerate(playlists['items']):\n",
    "            if playlist['name'] == playlist_name:\n",
    "                if verbose:\n",
    "                    print('\"%s\": offset %d, URI %s' % (playlist['name'], i + 1 + playlists['offset'], playlist['uri']))\n",
    "                return playlist['id']\n",
    "\n",
    "        # not found yet, get next page if there is one\n",
    "        if playlists['next']:\n",
    "            playlists = sp.next(playlists)\n",
    "        else:\n",
    "            return None\n",
    "\n",
    "playlist_id = get_playlist_id(\"Reddit Prettiest Songs\")\n",
    "print(playlist_id)"
   ]
  },
  {
   "cell_type": "code",
   "execution_count": null,
   "metadata": {},
   "outputs": [],
   "source": [
    "def get_tracks(playlist_id):\n",
    "    \n",
    "    results = sp.user_playlist(os.getenv('SPOTIFY_USERNAME'), \n",
    "                               playlist_id,\n",
    "                               fields='tracks,next,name')\n",
    "    tracks = results['tracks']\n",
    "    \n",
    "    # get tracks, paging as needed\n",
    "    track_list = []\n",
    "    while tracks:\n",
    "        for track_item in tracks['items']:\n",
    "            track_list.append(track_item['track'])\n",
    "        # more pages?\n",
    "        tracks = sp.next(tracks) if tracks['next'] else None\n",
    "                    \n",
    "    return pd.DataFrame({'artist': [track['artists'][0]['name'] for track in track_list],\n",
    "                         'track': [track['name'] for track in track_list],\n",
    "                         'uri': [track['uri'] for track in track_list],\n",
    "                         'id': [track['id'] for track in track_list],\n",
    "                         'popularity': [track['popularity'] for track in track_list],\n",
    "                        })\n",
    "\n",
    "get_tracks('08YFkbtTV6GBfNtjJ4PHDu')\n"
   ]
  },
  {
   "cell_type": "code",
   "execution_count": null,
   "metadata": {},
   "outputs": [],
   "source": [
    "system_prompt = \"\"\"You are a Spotify helper AI. \n",
    "I will make requests related to Spotify and you will generate python code\n",
    "to generate and answer using the functions provided\"\n",
    "\"\"\""
   ]
  },
  {
   "cell_type": "code",
   "execution_count": null,
   "metadata": {
    "lines_to_next_cell": 2
   },
   "outputs": [],
   "source": [
    "user_message1 = \"What is the id of my playlist entitled 'Reddit Prettiest Songs'\""
   ]
  },
  {
   "cell_type": "code",
   "execution_count": null,
   "metadata": {},
   "outputs": [],
   "source": [
    "system_prompt = \"\"\"You are a Spotify helper AI. \n",
    "I will make requests related to Spotify and you will generate python code\n",
    "to generate and answer using the functions provided\"\n",
    "\"\"\"\n",
    "\n",
    "user_message1 = \"What is the id of my playlist entitled 'Reddit Prettiest Songs'\"\n",
    "\n",
    "def get_response(messages):\n",
    "    response = openai.ChatCompletion.create(\n",
    "        messages=messages,\n",
    "        functions=[{\"name\": \"get_playlist_id\",\n",
    "                    \"description\": \"Return the Spotify playlist id based on the name of the playlist\",\n",
    "                    \"parameters\": {\n",
    "                        \"type\": \"object\",\n",
    "                        \"properties\": {\n",
    "                            \"playlist_name\": {\n",
    "                                \"type\": \"string\",\n",
    "                                \"description\": \"The name of the playlist\"\n",
    "                            },\n",
    "                        },\n",
    "                        \"required\": [\"playlist_name\"]\n",
    "                    }\n",
    "                   },\n",
    "                   {\n",
    "                \"name\": \"get_tracks\",\n",
    "                       \"description\": \"Return a dataframe of tracks in a playlist based on a Spotify playlist ID\",\n",
    "                       \"parameters\": {\n",
    "                           \"type\": \"object\",\n",
    "                           \"properties\": {\n",
    "                               \"playlist_id\": {\n",
    "                                   \"type\": \"string\",\n",
    "                                   \"description\": \"The Spotify playlist ID\"\n",
    "                               },\n",
    "                           },\n",
    "                           \"required\": [\"playlist_id\"]\n",
    "                       }\n",
    "                   },\n",
    "                   \n",
    "                  ],\n",
    "        model=\"gpt-3.5-turbo-0613\",\n",
    "        temperature=0.1\n",
    "    )\n",
    "    return response\n",
    "\n",
    "messages=[\n",
    "    {\n",
    "        \"role\": \"system\",\n",
    "        \"content\": system_prompt,\n",
    "    },\n",
    "    {\n",
    "        \"role\": \"user\",\n",
    "        \"content\": user_message1,\n",
    "    }\n",
    "]\n",
    "\n",
    "response=get_response(messages)\n",
    "response"
   ]
  },
  {
   "cell_type": "code",
   "execution_count": null,
   "metadata": {},
   "outputs": [],
   "source": [
    "fn_obj = response['choices'][0]['message']['function_call']\n",
    "fn_obj"
   ]
  },
  {
   "cell_type": "code",
   "execution_count": null,
   "metadata": {},
   "outputs": [],
   "source": [
    "args = eval(fn_obj['arguments'])\n",
    "args"
   ]
  },
  {
   "cell_type": "code",
   "execution_count": null,
   "metadata": {},
   "outputs": [],
   "source": [
    "print(f\"{fn_obj['name']}(**args)\")\n",
    "eval(f\"{fn_obj['name']}(**args)\")"
   ]
  },
  {
   "cell_type": "code",
   "execution_count": null,
   "metadata": {},
   "outputs": [],
   "source": [
    "user_message2 = \"give me a dataframe of tracks in the Spotify playlist with ID 08YFkbtTV6GBfNtjJ4PHDu\"\n",
    "messages=[\n",
    "            {\n",
    "                \"role\": \"system\",\n",
    "                \"content\": system_prompt,\n",
    "            },\n",
    "            {\n",
    "                \"role\": \"user\",\n",
    "                \"content\": user_message2,\n",
    "            }\n",
    "        ]\n",
    "\n",
    "response=get_response(messages)\n",
    "response\n"
   ]
  },
  {
   "cell_type": "code",
   "execution_count": null,
   "metadata": {},
   "outputs": [],
   "source": [
    "fn_obj = response['choices'][0]['message']['function_call']\n",
    "args = eval(fn_obj['arguments'])\n",
    "print(f\"{fn_obj['name']}(**args)\")\n",
    "eval(f\"{fn_obj['name']}(**args)\")"
   ]
  },
  {
   "cell_type": "markdown",
   "metadata": {},
   "source": [
    "# Chain requests\n",
    "\n",
    "- prompt to get a dataframe based on name\n",
    "- correctly gives first function, get id based on name\n",
    "- run the function, would like to prompt with the convo so far and previous function returned X, what next?\n"
   ]
  },
  {
   "cell_type": "code",
   "execution_count": null,
   "metadata": {
    "lines_to_next_cell": 2
   },
   "outputs": [],
   "source": [
    "chain_message1 = \"get a dataframe of tracks in the Spotify playlist named 'Reddit Prettiest Songs'\"\n",
    "messages = []\n",
    "messages.append({\"role\": \"system\", \"content\": system_prompt,})\n",
    "messages.append({\"role\": \"user\", \"content\": chain_message1,})\n",
    "response=get_response(messages)\n",
    "response"
   ]
  },
  {
   "cell_type": "code",
   "execution_count": null,
   "metadata": {},
   "outputs": [],
   "source": [
    "assistant_message1 = response['choices'][0]\n",
    "assistant_message1"
   ]
  },
  {
   "cell_type": "code",
   "execution_count": null,
   "metadata": {},
   "outputs": [],
   "source": [
    "assistant_message1 = {\"content\": '',\n",
    "                      \"function_call\": assistant_message1['message']['function_call']}\n",
    "messages.append({\"role\": \"assistant\", \"content\": assistant_message1,})\n",
    "\n",
    "fn_obj = response['choices'][0]['message']['function_call']\n",
    "args = eval(fn_obj['arguments'])\n",
    "result = eval(f\"{fn_obj['name']}(**args)\")\n",
    "\n",
    "chain_message2 = f\"the previous function returned {result}. What next?\"\n",
    "messages.append({\"role\": \"user\", 'content': chain_message2})\n",
    "messages\n"
   ]
  },
  {
   "cell_type": "code",
   "execution_count": null,
   "metadata": {},
   "outputs": [],
   "source": [
    "response=get_response(messages)\n",
    "response"
   ]
  },
  {
   "cell_type": "code",
   "execution_count": null,
   "metadata": {
    "lines_to_next_cell": 2
   },
   "outputs": [],
   "source": []
  }
 ],
 "metadata": {
  "jupytext": {
   "text_representation": {
    "extension": ".py",
    "format_name": "light",
    "format_version": "1.5",
    "jupytext_version": "1.4.2"
   }
  },
  "kernelspec": {
   "display_name": "llama",
   "language": "python",
   "name": "llama"
  }
 },
 "nbformat": 4,
 "nbformat_minor": 4
}
